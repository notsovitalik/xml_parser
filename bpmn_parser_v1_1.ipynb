{
 "cells": [
  {
   "cell_type": "markdown",
   "id": "5dfdf607",
   "metadata": {},
   "source": [
    "# Импорт необходимых для работы кода библиотек"
   ]
  },
  {
   "cell_type": "code",
   "execution_count": 15,
   "id": "ab414fcf",
   "metadata": {},
   "outputs": [],
   "source": [
    "import pandas as pd\n",
    "import xlsxwriter\n",
    "import json\n",
    "import re\n",
    "import xml.etree.ElementTree as ET\n",
    "import io"
   ]
  },
  {
   "cell_type": "markdown",
   "id": "c607834f",
   "metadata": {},
   "source": [
    "# Настройки (язык регистрочувствительный)"
   ]
  },
  {
   "cell_type": "code",
   "execution_count": 5,
   "id": "4366ea35",
   "metadata": {},
   "outputs": [],
   "source": [
    "# укажи полный путь до xml файла без расширения .bpmn\n",
    "# либо просто название файла, если он находится в той же папке, что и этот скрипт\n",
    "file_name = r'vitank3'\n",
    "\n",
    "# укажи префикс bpmn:definitions xmlns:bpmn в фигурных скобках\n",
    "xmls_bpmn_prefix = \"{http://www.omg.org/spec/BPMN/20100524/MODEL}\"\n",
    "\n",
    "# укажи префикс bpmn:definitions xmlns:camunda в фигурных скобках\n",
    "xmlns_camunda_prefix = \"{http://camunda.org/schema/1.0/bpmn}\"\n",
    "\n",
    "# укажи список тасок для рассмотрения\n",
    "task_list = ['serviceTask', 'scriptTask', 'userTask', 'callActivity', \n",
    "             'startEvent', 'boundaryEvent', 'intermediateCatchEvent', 'endEvent',\n",
    "             'linkEventDefinition', 'executionListener'\n",
    "#              'exclusiveGateway', 'parallelGateway', \n",
    "            ]\n",
    "\n",
    "# укажи как сохранять input/output. Как словарь, или дублировать строки\n",
    "io_like_dict = False"
   ]
  },
  {
   "cell_type": "markdown",
   "id": "5b7e19d0",
   "metadata": {},
   "source": [
    "# Код"
   ]
  },
  {
   "cell_type": "code",
   "execution_count": 26,
   "id": "08bc6e17",
   "metadata": {},
   "outputs": [
    {
     "name": "stdout",
     "output_type": "stream",
     "text": [
      "Файл сохранен!\n"
     ]
    }
   ],
   "source": [
    "def get_df_from_xml(xml_string) -> pd.DataFrame:\n",
    "    \n",
    "    # should write autodetection of bpmn:, camunda: prefixes with some regex\n",
    "    pass\n",
    "\n",
    "    #create root\n",
    "    root = ET.fromstring(xml_string)\n",
    "    \n",
    "    records = dict()\n",
    "    index = 0\n",
    "    \n",
    "    for child in list(root.iter()):\n",
    "        # we need to consider only process subtags (i suppose)\n",
    "        if child.tag == xmls_bpmn_prefix + 'process':\n",
    "            for child in list(child.iter()):\n",
    "#                 print(child)\n",
    "                if child.tag in [xmls_bpmn_prefix + task_ent for task_ent in task_list]:\n",
    "                    \n",
    "                    # collect first level data\n",
    "                    records_ = dict()\n",
    "                    records_['name'] = child.attrib.get('name', '-')\n",
    "                    records_['id'] = child.attrib.get('id', '-')\n",
    "                    records_['type'] = (child.tag.replace(xmls_bpmn_prefix,'') \n",
    "                                        if xmls_bpmn_prefix in child.tag \n",
    "                                        else child.tag)\n",
    "                    records_['delegate'] = child.attrib.get(\"{}class\".format(xmlns_camunda_prefix), '') \n",
    "                    \n",
    "                    # collect input/output parameters description and docs\n",
    "                    input_ = dict()\n",
    "                    ouptut_ = dict()\n",
    "                    for child in list(child.iter()):\n",
    "                        if child.tag == xmls_bpmn_prefix + 'documentation':\n",
    "                            records_['documentation'] = child.text\n",
    "                        if child.tag == xmlns_camunda_prefix + 'inputOutput':\n",
    "                            for child in list(child.iter()):\n",
    "                                if child.tag == xmlns_camunda_prefix + 'inputParameter':\n",
    "                                    if child.attrib.get('name', '-'):\n",
    "                                        input_[child.attrib['name']] = child.text\n",
    "                                if child.tag == xmlns_camunda_prefix + 'outputParameter':\n",
    "                                    if child.attrib.get('name', '-'):\n",
    "                                        ouptut_[child.attrib['name']] = child.text\n",
    "                    \n",
    "                    if io_like_dict == True:\n",
    "                        records_['inputParameter'] = input_\n",
    "                        records_['outputParameter'] = ouptut_\n",
    "                    else:\n",
    "                        records_['inputParameter'] = '\\n'.join([f\"{key} = {input_[key]}\" for key in input_])\n",
    "                        records_['outputParameter'] = '\\n'.join([f\"{key} = {ouptut_[key]}\" for key in ouptut_])\n",
    "                    \n",
    "                    records[index] = records_\n",
    "                    index += 1\n",
    "       \n",
    "    df = pd.DataFrame.from_dict(records, orient='index')\n",
    "\n",
    "    return df\n",
    "\n",
    "\n",
    "with open(file=file_name + \".bpmn\", mode=\"r\", encoding='utf-8') as file:\n",
    "    \n",
    "    # get data as string\n",
    "    xml_string = file.read().replace('/n', '').rstrip()\n",
    "\n",
    "    df = get_df_from_xml(xml_string)\n",
    "\n",
    "    with pd.ExcelWriter(file_name + \".xlsx\", engine=\"xlsxwriter\") as writer:\n",
    "        writer.book.formats[0].set_text_wrap() \n",
    "        writer.book.formats[0].set_align('left')\n",
    "        writer.book.formats[0].set_align('top')\n",
    "        df.to_excel(writer, index=False)\n",
    "    \n",
    "    print('Файл сохранен!')"
   ]
  },
  {
   "cell_type": "code",
   "execution_count": null,
   "id": "6a59c8f8",
   "metadata": {},
   "outputs": [],
   "source": []
  }
 ],
 "metadata": {
  "kernelspec": {
   "display_name": "Python 3 (ipykernel)",
   "language": "python",
   "name": "python3"
  },
  "language_info": {
   "codemirror_mode": {
    "name": "ipython",
    "version": 3
   },
   "file_extension": ".py",
   "mimetype": "text/x-python",
   "name": "python",
   "nbconvert_exporter": "python",
   "pygments_lexer": "ipython3",
   "version": "3.9.2"
  }
 },
 "nbformat": 4,
 "nbformat_minor": 5
}
